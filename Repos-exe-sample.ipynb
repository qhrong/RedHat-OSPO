{
 "cells": [
  {
   "cell_type": "markdown",
   "metadata": {},
   "source": [
    "# Create data sample used for comparison exploration among 4 groups"
   ]
  },
  {
   "cell_type": "code",
   "execution_count": null,
   "metadata": {},
   "outputs": [],
   "source": [
    "!pip install seaborn\n",
    "import pandas as pd\n",
    "from datetime import datetime\n",
    "import seaborn as sns\n",
    "import matplotlib.pyplot as plt"
   ]
  },
  {
   "cell_type": "code",
   "execution_count": null,
   "metadata": {},
   "outputs": [],
   "source": [
    "df=pd.read_csv('sample_rh.csv')\n",
    "df2=pd.read_csv('sample.csv')"
   ]
  },
  {
   "cell_type": "code",
   "execution_count": null,
   "metadata": {},
   "outputs": [],
   "source": [
    "df_rh=df[df['committer_affiliation']=='redhat']\n",
    "del df_rh['Unnamed: 0']\n",
    "df_mix=df[df['committer_affiliation']=='RH/V']\n",
    "del df_mix['Unnamed: 0']"
   ]
  },
  {
   "cell_type": "code",
   "execution_count": null,
   "metadata": {},
   "outputs": [],
   "source": [
    "df_ms=df2[df2['committer_affiliation']=='microsoft']\n",
    "del df_ms['Unnamed: 0']\n",
    "df_kde=df2[df2['committer_affiliation']=='kde']\n",
    "del df_kde['Unnamed: 0']"
   ]
  },
  {
   "cell_type": "code",
   "execution_count": null,
   "metadata": {},
   "outputs": [],
   "source": [
    "for i in [df_rh,df_mix,df_kde,df_ms]:\n",
    "    res=[]\n",
    "    for ele in i[\"committer_date\"]:\n",
    "        try:\n",
    "            res.append(pd.to_datetime(str(ele),\"%Y-%m-%d %H:%M:%S%Z\"))\n",
    "        except:\n",
    "            res.append(pd.to_datetime(str(ele),infer_datetime_format=True))\n",
    "    i['committer_date']=res"
   ]
  },
  {
   "cell_type": "code",
   "execution_count": null,
   "metadata": {},
   "outputs": [],
   "source": [
    "for i in [df_rh,df_mix,df_kde,df_ms]:\n",
    "    year=[]\n",
    "    month=[]\n",
    "    day=[]\n",
    "    for ele in i[\"committer_date\"]:\n",
    "        year.append(ele.year)\n",
    "        month.append(ele.month)\n",
    "        day.append(ele.day)\n",
    "    i[\"committer_year\"]=year\n",
    "    i[\"committer_month\"]=month\n",
    "    i[\"committer_day\"]=day"
   ]
  }
 ],
 "metadata": {
  "kernelspec": {
   "display_name": "Python 3",
   "language": "python",
   "name": "python3"
  },
  "language_info": {
   "codemirror_mode": {
    "name": "ipython",
    "version": 3
   },
   "file_extension": ".py",
   "mimetype": "text/x-python",
   "name": "python",
   "nbconvert_exporter": "python",
   "pygments_lexer": "ipython3",
   "version": "3.6.7"
  }
 },
 "nbformat": 4,
 "nbformat_minor": 2
}
