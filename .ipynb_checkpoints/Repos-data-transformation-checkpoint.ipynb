{
 "cells": [
  {
   "cell_type": "markdown",
   "metadata": {},
   "source": [
    "On the sample data, build up a Jupyter file to transform the data into the desired format of modeling."
   ]
  },
  {
   "cell_type": "code",
   "execution_count": 1,
   "metadata": {},
   "outputs": [],
   "source": [
    "# Import modules\n",
    "import numpy as np\n",
    "import pandas as pd\n",
    "from sklearn.neighbors import NearestNeighbors "
   ]
  },
  {
   "cell_type": "code",
   "execution_count": 2,
   "metadata": {},
   "outputs": [
    {
     "name": "stdout",
     "output_type": "stream",
     "text": [
      "Requirement already satisfied: seaborn in /opt/app-root/lib/python3.6/site-packages (0.9.0)\n",
      "Requirement already satisfied: matplotlib>=1.4.3 in /opt/app-root/lib/python3.6/site-packages (from seaborn) (3.1.1)\n",
      "Requirement already satisfied: numpy>=1.9.3 in /opt/app-root/lib/python3.6/site-packages (from seaborn) (1.16.4)\n",
      "Requirement already satisfied: scipy>=0.14.0 in /opt/app-root/lib/python3.6/site-packages (from seaborn) (1.3.0)\n",
      "Requirement already satisfied: pandas>=0.15.2 in /opt/app-root/lib/python3.6/site-packages (from seaborn) (0.23.0)\n",
      "Requirement already satisfied: python-dateutil>=2.1 in /opt/app-root/lib/python3.6/site-packages (from matplotlib>=1.4.3->seaborn) (2.8.0)\n",
      "Requirement already satisfied: kiwisolver>=1.0.1 in /opt/app-root/lib/python3.6/site-packages (from matplotlib>=1.4.3->seaborn) (1.1.0)\n",
      "Requirement already satisfied: pyparsing!=2.0.4,!=2.1.2,!=2.1.6,>=2.0.1 in /opt/app-root/lib/python3.6/site-packages (from matplotlib>=1.4.3->seaborn) (2.4.0)\n",
      "Requirement already satisfied: cycler>=0.10 in /opt/app-root/lib/python3.6/site-packages (from matplotlib>=1.4.3->seaborn) (0.10.0)\n",
      "Requirement already satisfied: pytz>=2011k in /opt/app-root/lib/python3.6/site-packages (from pandas>=0.15.2->seaborn) (2019.1)\n",
      "Requirement already satisfied: six>=1.5 in /opt/app-root/lib/python3.6/site-packages (from python-dateutil>=2.1->matplotlib>=1.4.3->seaborn) (1.12.0)\n",
      "Requirement already satisfied: setuptools in /opt/app-root/lib/python3.6/site-packages (from kiwisolver>=1.0.1->matplotlib>=1.4.3->seaborn) (41.0.1)\n"
     ]
    },
    {
     "name": "stderr",
     "output_type": "stream",
     "text": [
      "./Repos-exe-sample.ipynb:8: SettingWithCopyWarning: \n",
      "A value is trying to be set on a copy of a slice from a DataFrame.\n",
      "Try using .loc[row_indexer,col_indexer] = value instead\n",
      "\n",
      "See the caveats in the documentation: http://pandas.pydata.org/pandas-docs/stable/indexing.html#indexing-view-versus-copy\n",
      "  \"source\": [\n",
      "./Repos-exe-sample.ipynb:9: SettingWithCopyWarning: \n",
      "A value is trying to be set on a copy of a slice from a DataFrame.\n",
      "Try using .loc[row_indexer,col_indexer] = value instead\n",
      "\n",
      "See the caveats in the documentation: http://pandas.pydata.org/pandas-docs/stable/indexing.html#indexing-view-versus-copy\n",
      "  \"!pip install seaborn\\n\",\n",
      "./Repos-exe-sample.ipynb:10: SettingWithCopyWarning: \n",
      "A value is trying to be set on a copy of a slice from a DataFrame.\n",
      "Try using .loc[row_indexer,col_indexer] = value instead\n",
      "\n",
      "See the caveats in the documentation: http://pandas.pydata.org/pandas-docs/stable/indexing.html#indexing-view-versus-copy\n",
      "  \"import pandas as pd\\n\",\n",
      "./Repos-exe-sample.ipynb:11: SettingWithCopyWarning: \n",
      "A value is trying to be set on a copy of a slice from a DataFrame.\n",
      "Try using .loc[row_indexer,col_indexer] = value instead\n",
      "\n",
      "See the caveats in the documentation: http://pandas.pydata.org/pandas-docs/stable/indexing.html#indexing-view-versus-copy\n",
      "  \"from datetime import datetime\\n\",\n"
     ]
    }
   ],
   "source": [
    "%run ./Repos-exe-sample.ipynb"
   ]
  },
  {
   "cell_type": "code",
   "execution_count": 3,
   "metadata": {},
   "outputs": [],
   "source": [
    "df = pd.concat([df_mix,df_rh])\n",
    "for col in ['author_name','author_email','author_date','author_affiliation','auth_comm','diff_date']:\n",
    "    del df[col]"
   ]
  },
  {
   "cell_type": "code",
   "execution_count": 4,
   "metadata": {},
   "outputs": [
    {
     "data": {
      "text/plain": [
       "Index(['repos_id0', 'committer_name', 'committer_email', 'committer_date',\n",
       "       'added', 'removed', 'whitespace', 'filename', 'date_attempted', 'git',\n",
       "       'repos_name', 'committer_affiliation', 'committer_year',\n",
       "       'committer_month', 'committer_day'],\n",
       "      dtype='object')"
      ]
     },
     "execution_count": 4,
     "metadata": {},
     "output_type": "execute_result"
    }
   ],
   "source": [
    "df.columns"
   ]
  },
  {
   "cell_type": "code",
   "execution_count": 58,
   "metadata": {},
   "outputs": [],
   "source": [
    "#Extract the email name\n",
    "df[\"email_name\"]=df['committer_email'].str.split('@', 1, expand=True)[0]"
   ]
  },
  {
   "cell_type": "markdown",
   "metadata": {},
   "source": [
    "## Filter out observations used as test set:\n",
    "- People using two email address\n",
    "- People in rh employee list"
   ]
  },
  {
   "cell_type": "markdown",
   "metadata": {},
   "source": [
    "#### People using two email address"
   ]
  },
  {
   "cell_type": "code",
   "execution_count": 59,
   "metadata": {
    "scrolled": true
   },
   "outputs": [],
   "source": [
    "committer_two = []\n",
    "for ele in df['committer_name'].unique():\n",
    "    if len(df[df['committer_name']==ele]['email_name'].unique())>1:\n",
    "        committer_two.append(ele)"
   ]
  },
  {
   "cell_type": "code",
   "execution_count": 60,
   "metadata": {},
   "outputs": [],
   "source": [
    "df_test = df[df['committer_name'].isin(committer_two)]"
   ]
  },
  {
   "cell_type": "markdown",
   "metadata": {},
   "source": [
    "#### People in rh employee list"
   ]
  },
  {
   "cell_type": "code",
   "execution_count": 61,
   "metadata": {},
   "outputs": [],
   "source": [
    "rh_txt=list(open('rh-employee-list.txt','r').read().split('\\n'))"
   ]
  },
  {
   "cell_type": "code",
   "execution_count": 62,
   "metadata": {},
   "outputs": [
    {
     "name": "stdout",
     "output_type": "stream",
     "text": [
      "Requirement already satisfied: unidecode in /opt/app-root/lib/python3.6/site-packages (1.1.1)\r\n"
     ]
    }
   ],
   "source": [
    "!pip install unidecode"
   ]
  },
  {
   "cell_type": "code",
   "execution_count": 63,
   "metadata": {},
   "outputs": [],
   "source": [
    "# Transfer names in github data from Unicode to ACSII\n",
    "# https://en.wikipedia.org/wiki/List_of_Unicode_characters#Basic_Latin\n",
    "from unidecode import unidecode\n",
    "name_df={'name_p': df['committer_name'][df['committer_affiliation']=='RH/V'].unique()}\n",
    "name_df=pd.DataFrame(name_df)"
   ]
  },
  {
   "cell_type": "code",
   "execution_count": 64,
   "metadata": {},
   "outputs": [],
   "source": [
    "res=[]\n",
    "for ele in df['committer_name'][df['committer_affiliation']=='RH/V'].unique():\n",
    "    res.append(unidecode(ele))\n",
    "name_df['name_a']=res"
   ]
  },
  {
   "cell_type": "code",
   "execution_count": 65,
   "metadata": {
    "scrolled": true
   },
   "outputs": [
    {
     "name": "stdout",
     "output_type": "stream",
     "text": [
      "183 172\n"
     ]
    }
   ],
   "source": [
    "print(sum(name_df['name_a'].isin(rh_txt)),sum(name_df['name_p'].isin(rh_txt)))"
   ]
  },
  {
   "cell_type": "code",
   "execution_count": 66,
   "metadata": {},
   "outputs": [],
   "source": [
    "df_test2 = df[df['committer_name'].isin(name_df['name_a'][name_df['name_a'].isin(rh_txt)])]"
   ]
  },
  {
   "cell_type": "markdown",
   "metadata": {},
   "source": [
    "#### Combine these two sets into a 'test set' and delete these observations from df"
   ]
  },
  {
   "cell_type": "code",
   "execution_count": 67,
   "metadata": {},
   "outputs": [],
   "source": [
    "df_testset = pd.concat([df_test,df_test2]).drop_duplicates()"
   ]
  },
  {
   "cell_type": "code",
   "execution_count": 68,
   "metadata": {},
   "outputs": [],
   "source": [
    "df_trainset = df.drop(df_testset.index)"
   ]
  },
  {
   "cell_type": "markdown",
   "metadata": {},
   "source": [
    "## 1. Percentage of commit made on each day / each part of day"
   ]
  },
  {
   "cell_type": "code",
   "execution_count": 69,
   "metadata": {},
   "outputs": [],
   "source": [
    "# Feature of weekday\n",
    "day=[]\n",
    "for ele in df['committer_date']: #weekday=0, weekend=1\n",
    "    day.append(ele.weekday())\n",
    "df['weekday']=day"
   ]
  },
  {
   "cell_type": "code",
   "execution_count": 70,
   "metadata": {},
   "outputs": [],
   "source": [
    "# Feature of morning or evening\n",
    "def get_part_of_day(hour):\n",
    "    return (\n",
    "        \"morning\" if 5 <= hour <= 11\n",
    "        else\n",
    "        \"afternoon\" if 12 <= hour <= 17\n",
    "        else\n",
    "        \"evening\" if 18 <= hour <= 22\n",
    "        else\n",
    "        \"night\"\n",
    "    )\n",
    "\n",
    "res=[]\n",
    "for ele in df['committer_date']:\n",
    "    res.append(get_part_of_day(ele.hour))\n",
    "df['day_part']=res"
   ]
  },
  {
   "cell_type": "code",
   "execution_count": 71,
   "metadata": {},
   "outputs": [],
   "source": [
    "#A df counting how many commits from weekday/weekend for each committer\n",
    "weekday_df=df.groupby(['committer_name','weekday'])['committer_affiliation'].count().reset_index(name='count')\n",
    "#A df counting how many commits from each part of day for each committer\n",
    "daypart_df=df.groupby(['committer_name','day_part'])['committer_affiliation'].count().reset_index(name='count')\n",
    "#Calculate what percentage a committer commit in weekday/weekend\n",
    "committer_weekday=weekday_df.groupby(['committer_name','weekday']).agg({'count':'sum'})\n",
    "committer_weekday=committer_weekday.groupby(level=0).apply(lambda x: x/float(x.sum()))\n",
    "#Calculate what percentage a committer commit in each part of day\n",
    "committer_daypart=daypart_df.groupby(['committer_name','day_part']).agg({'count':'sum'})\n",
    "committer_daypart=committer_daypart.groupby(level=0).apply(lambda x: x/float(x.sum()))"
   ]
  },
  {
   "cell_type": "code",
   "execution_count": 72,
   "metadata": {},
   "outputs": [],
   "source": [
    "#Reframing the weekday dataframe \n",
    "committer_weekday=committer_weekday.pivot_table(columns='weekday', index='committer_name', values='count', fill_value=0)\n",
    "#Reframing the daypart dataframe \n",
    "committer_daypart=committer_daypart.pivot_table(columns='day_part', index='committer_name', values='count', fill_value=0)"
   ]
  },
  {
   "cell_type": "code",
   "execution_count": 73,
   "metadata": {},
   "outputs": [],
   "source": [
    "new_df = pd.concat([committer_weekday,committer_daypart],axis=1)"
   ]
  },
  {
   "cell_type": "markdown",
   "metadata": {},
   "source": [
    "## 2. Committer's contribution features"
   ]
  },
  {
   "cell_type": "markdown",
   "metadata": {},
   "source": [
    "The creation of features are on project level. If people have participated in multiple projects, they will be added up, for % of changes."
   ]
  },
  {
   "cell_type": "markdown",
   "metadata": {},
   "source": [
    "#### 2.1 Yearly Rank and project count"
   ]
  },
  {
   "cell_type": "code",
   "execution_count": 74,
   "metadata": {
    "scrolled": true
   },
   "outputs": [],
   "source": [
    "def project_year(ele): \n",
    "    subdf=df[df['repos_name']==ele]\n",
    "    year_df=subdf.groupby(['committer_year','committer_name'])['committer_affiliation'].count().reset_index(name='count')\n",
    "    #Rank column\n",
    "    year_df['rank_yr']=year_df.groupby(['committer_year'])['count'].rank(ascending=False).astype(int)\n",
    "    year_df = year_df.groupby('committer_name')['rank_yr'].sum()\n",
    "    return(year_df)"
   ]
  },
  {
   "cell_type": "code",
   "execution_count": 75,
   "metadata": {},
   "outputs": [],
   "source": [
    "res = project_year('camel') #use the first one to set storage format\n",
    "project_name = list(df['repos_name'].unique())"
   ]
  },
  {
   "cell_type": "code",
   "execution_count": 76,
   "metadata": {},
   "outputs": [],
   "source": [
    "for ele in project_name[1:]: #delete camel because already used as storage format\n",
    "    res=res.append(project_year(ele))    "
   ]
  },
  {
   "cell_type": "code",
   "execution_count": 77,
   "metadata": {},
   "outputs": [],
   "source": [
    "# Edit format \n",
    "res['name']=res.index\n",
    "res = pd.DataFrame(res)"
   ]
  },
  {
   "cell_type": "code",
   "execution_count": 78,
   "metadata": {},
   "outputs": [],
   "source": [
    "# Summarize the rank and append to new_df\n",
    "count = res.groupby('committer_name').size()\n",
    "res = res.groupby('committer_name')['rank_yr'].sum()\n",
    "res = pd.DataFrame(res)\n",
    "res['count'] = count"
   ]
  },
  {
   "cell_type": "code",
   "execution_count": 79,
   "metadata": {
    "scrolled": true
   },
   "outputs": [
    {
     "name": "stderr",
     "output_type": "stream",
     "text": [
      "/opt/app-root/lib/python3.6/site-packages/ipykernel_launcher.py:1: FutureWarning: Sorting because non-concatenation axis is not aligned. A future version\n",
      "of pandas will change to not sort by default.\n",
      "\n",
      "To accept the future behavior, pass 'sort=True'.\n",
      "\n",
      "To retain the current behavior and silence the warning, pass sort=False\n",
      "\n",
      "  \"\"\"Entry point for launching an IPython kernel.\n"
     ]
    }
   ],
   "source": [
    "new_df = pd.concat([new_df,res],axis=1)"
   ]
  },
  {
   "cell_type": "markdown",
   "metadata": {},
   "source": [
    "#### 2.2 Sum of percentage of changes in each project "
   ]
  },
  {
   "cell_type": "code",
   "execution_count": 80,
   "metadata": {},
   "outputs": [],
   "source": [
    "#for ele in df['repos_name'].unique():\n",
    "def project_df(ele): #ele is the project name\n",
    "    #Data frame for this project\n",
    "    df_proj=df[df['repos_name']==ele]\n",
    "    df_proj2=df_proj.groupby('committer_name')['added','removed','whitespace'].sum()\n",
    "    df_proj2=pd.merge(df_proj2,df_proj.groupby('committer_name').size().reset_index(name='touched'),on='committer_name')\n",
    "    \n",
    "    #Transfer number of changes to percentage / total number in this project\n",
    "    df_proj2['added']=df_proj2['added']/sum(df_proj2['added'])\n",
    "    df_proj2['removed']=df_proj2['removed']/sum(df_proj2['removed'])\n",
    "    df_proj2['whitespace']=df_proj2['whitespace']/sum(df_proj2['whitespace'])\n",
    "    df_proj2['touched']=df_proj2['touched']/sum(df_proj2['touched'])\n",
    "    return(df_proj2)"
   ]
  },
  {
   "cell_type": "code",
   "execution_count": 81,
   "metadata": {},
   "outputs": [],
   "source": [
    "res = project_df('camel') #use the first one to set storage format\n",
    "for ele in project_name[1:]: #delete camel because already used as storage format\n",
    "    res=res.append(project_df(ele))  "
   ]
  },
  {
   "cell_type": "code",
   "execution_count": 82,
   "metadata": {
    "scrolled": true
   },
   "outputs": [],
   "source": [
    "res = res.groupby('committer_name')['added','removed','whitespace','touched'].sum()"
   ]
  },
  {
   "cell_type": "code",
   "execution_count": 83,
   "metadata": {},
   "outputs": [
    {
     "name": "stderr",
     "output_type": "stream",
     "text": [
      "/opt/app-root/lib/python3.6/site-packages/ipykernel_launcher.py:1: FutureWarning: Sorting because non-concatenation axis is not aligned. A future version\n",
      "of pandas will change to not sort by default.\n",
      "\n",
      "To accept the future behavior, pass 'sort=True'.\n",
      "\n",
      "To retain the current behavior and silence the warning, pass sort=False\n",
      "\n",
      "  \"\"\"Entry point for launching an IPython kernel.\n"
     ]
    }
   ],
   "source": [
    "new_df = pd.concat([new_df, res], axis=1)\n",
    "# NaN means 0 of changes so no percentage"
   ]
  },
  {
   "cell_type": "markdown",
   "metadata": {},
   "source": [
    "## 3. Nearest neighbor"
   ]
  },
  {
   "cell_type": "code",
   "execution_count": 84,
   "metadata": {},
   "outputs": [],
   "source": [
    "def knn_committer(df,ele): #df: original; ele: project name\n",
    "    \n",
    "    \n",
    "    \n",
    "    #filter out repos with count>2\n",
    "    if len(df[df['repos_name']==ele].groupby('committer_name'))>2: \n",
    "        \n",
    "        knn_df=df[df['repos_name']==ele]\n",
    "        knn_df=knn_df.groupby('committer_name')['added','removed','whitespace'].sum()\n",
    "        \n",
    "        #normalized the dataframe\n",
    "        for i in ['added','removed','whitespace']:\n",
    "            knn_df[i]=(knn_df[i]-min(knn_df[i]))\n",
    "            \n",
    "        knn_df.fillna(0)\n",
    "        \n",
    "        #find the nearest neighbor\n",
    "        nbrs=NearestNeighbors(n_neighbors=2,algorithm='ball_tree').fit(knn_df)\n",
    "        distances, indices = nbrs.kneighbors(knn_df)\n",
    "        res=[]\n",
    "        for i in range(len(knn_df['added'])):\n",
    "            res.append(indices[i][1])\n",
    "        knn_df['neighbor']=res\n",
    "        \n",
    "        knn_df['committer_name']=knn_df.index\n",
    "        \n",
    "        #Append neighbors' names as a new column\n",
    "        res=[]\n",
    "        names=[]\n",
    "        #some of the first items in indices are the committer themselves, some are not. Need a if-else to filter out\n",
    "        for i in range(len(indices)):\n",
    "            if indices[i][0]==i:\n",
    "                res.append(indices[i][1])\n",
    "            else:\n",
    "                res.append(indices[i][0]) #save the neighbor other than itself\n",
    "            names.append(knn_df['committer_name'][res[i]])\n",
    "        knn_df['neighbor_name']=names\n",
    "        \n",
    "    else: \n",
    "        \n",
    "        knn_df=df[df['repos_name']==ele]\n",
    "        knn_df=knn_df.groupby('committer_name')['added','removed','whitespace'].sum()\n",
    "        \n",
    "        #standardize the dataframe\n",
    "        for i in ['added','removed','whitespace']:\n",
    "            knn_df[i]=(knn_df[i]-np.mean(knn_df[i]))\n",
    "            \n",
    "        knn_df.fillna(0)\n",
    "        \n",
    "        knn_df['neighbor']=['Na']*len(knn_df)\n",
    "        knn_df['committer_name']=knn_df.index\n",
    "        knn_df['neighbor_name']=['Na']*len(knn_df)\n",
    "        \n",
    "    return(knn_df)\n",
    "        "
   ]
  },
  {
   "cell_type": "code",
   "execution_count": 85,
   "metadata": {
    "scrolled": true
   },
   "outputs": [],
   "source": [
    "# Iterate for each project\n",
    "ans = knn_committer(df, 'camel')\n",
    "\n",
    "for ele in project_name[1:]:\n",
    "    tmp = knn_committer(df.fillna(0),ele)\n",
    "    ans = ans.append(tmp)"
   ]
  },
  {
   "cell_type": "code",
   "execution_count": 86,
   "metadata": {
    "scrolled": true
   },
   "outputs": [],
   "source": [
    "# Add a column to indicate the neighbor's affiliation\n",
    "res = []\n",
    "\n",
    "for ele in ans['neighbor_name']:\n",
    "    if ele != 'Na':\n",
    "        compare_tmp=df['committer_affiliation'][df['committer_name']==ele]\n",
    "        res.append(compare_tmp.iloc[0])\n",
    "    else:\n",
    "        res.append('Na')\n",
    "ans['affiliation']=res"
   ]
  },
  {
   "cell_type": "code",
   "execution_count": 87,
   "metadata": {},
   "outputs": [],
   "source": [
    "# Numerize the affiliation column for group by \n",
    "ans['affiliation']=np.where(ans['affiliation']=='RH/V', 0, 1)"
   ]
  },
  {
   "cell_type": "code",
   "execution_count": 88,
   "metadata": {},
   "outputs": [
    {
     "name": "stderr",
     "output_type": "stream",
     "text": [
      "/opt/app-root/lib/python3.6/site-packages/ipykernel_launcher.py:1: FutureWarning: 'committer_name' is both an index level and a column label.\n",
      "Defaulting to column, but this will raise an ambiguity error in a future version\n",
      "  \"\"\"Entry point for launching an IPython kernel.\n"
     ]
    }
   ],
   "source": [
    "new_df['affiliation']=ans.groupby('committer_name')['affiliation'].sum()\n",
    "# The affiliation column indicates how many neighbor of this committer is from Red Hat."
   ]
  },
  {
   "cell_type": "markdown",
   "metadata": {},
   "source": [
    "## 4. Encoding for repos name"
   ]
  },
  {
   "cell_type": "code",
   "execution_count": 89,
   "metadata": {},
   "outputs": [],
   "source": [
    "encoding_tmp = pd.DataFrame(df.groupby(['committer_name','repos_name']).count()['repos_id0'])"
   ]
  },
  {
   "cell_type": "code",
   "execution_count": 90,
   "metadata": {
    "scrolled": true
   },
   "outputs": [
    {
     "data": {
      "text/html": [
       "<div>\n",
       "<style scoped>\n",
       "    .dataframe tbody tr th:only-of-type {\n",
       "        vertical-align: middle;\n",
       "    }\n",
       "\n",
       "    .dataframe tbody tr th {\n",
       "        vertical-align: top;\n",
       "    }\n",
       "\n",
       "    .dataframe thead th {\n",
       "        text-align: right;\n",
       "    }\n",
       "</style>\n",
       "<table border=\"1\" class=\"dataframe\">\n",
       "  <thead>\n",
       "    <tr style=\"text-align: right;\">\n",
       "      <th></th>\n",
       "      <th></th>\n",
       "      <th>repos_id0</th>\n",
       "    </tr>\n",
       "    <tr>\n",
       "      <th>committer_name</th>\n",
       "      <th>repos_name</th>\n",
       "      <th></th>\n",
       "    </tr>\n",
       "  </thead>\n",
       "  <tbody>\n",
       "    <tr>\n",
       "      <th>\"Caius \"\"kaio\"\" Chance\"</th>\n",
       "      <th>zanata-platform</th>\n",
       "      <td>1</td>\n",
       "    </tr>\n",
       "    <tr>\n",
       "      <th>--add</th>\n",
       "      <th>keycloak-documentation</th>\n",
       "      <td>1</td>\n",
       "    </tr>\n",
       "    <tr>\n",
       "      <th>14rcole</th>\n",
       "      <th>ostree-go</th>\n",
       "      <td>1</td>\n",
       "    </tr>\n",
       "    <tr>\n",
       "      <th>Aaron Patterson</th>\n",
       "      <th>rails</th>\n",
       "      <td>8</td>\n",
       "    </tr>\n",
       "    <tr>\n",
       "      <th>Aaron Prindle</th>\n",
       "      <th>minikube</th>\n",
       "      <td>2</td>\n",
       "    </tr>\n",
       "    <tr>\n",
       "      <th>Aaron Tan</th>\n",
       "      <th>docutils</th>\n",
       "      <td>7</td>\n",
       "    </tr>\n",
       "    <tr>\n",
       "      <th>Abhijith Das</th>\n",
       "      <th>resource-agents</th>\n",
       "      <td>2</td>\n",
       "    </tr>\n",
       "    <tr>\n",
       "      <th>Abhishek Koneru</th>\n",
       "      <th>pki</th>\n",
       "      <td>1</td>\n",
       "    </tr>\n",
       "    <tr>\n",
       "      <th>Abhishek Shah</th>\n",
       "      <th>kubernetes</th>\n",
       "      <td>1</td>\n",
       "    </tr>\n",
       "    <tr>\n",
       "      <th>Adam Abrons</th>\n",
       "      <th>angular.js</th>\n",
       "      <td>1</td>\n",
       "    </tr>\n",
       "    <tr>\n",
       "      <th>Adam Brousseau</th>\n",
       "      <th>openj9</th>\n",
       "      <td>1</td>\n",
       "    </tr>\n",
       "    <tr>\n",
       "      <th>Adam Cigánek</th>\n",
       "      <th>apisonator</th>\n",
       "      <td>1</td>\n",
       "    </tr>\n",
       "    <tr>\n",
       "      <th>Adam Haile</th>\n",
       "      <th>tito</th>\n",
       "      <td>1</td>\n",
       "    </tr>\n",
       "    <tr>\n",
       "      <th>Adam Jolicoeur</th>\n",
       "      <th>kubevirt-1</th>\n",
       "      <td>1</td>\n",
       "    </tr>\n",
       "    <tr>\n",
       "      <th rowspan=\"2\" valign=\"top\">Adam Miller</th>\n",
       "      <th>CentOS-Dockerfiles</th>\n",
       "      <td>1</td>\n",
       "    </tr>\n",
       "    <tr>\n",
       "      <th>ansible</th>\n",
       "      <td>1</td>\n",
       "    </tr>\n",
       "    <tr>\n",
       "      <th rowspan=\"3\" valign=\"top\">Adam Price</th>\n",
       "      <th>katello-1</th>\n",
       "      <td>3</td>\n",
       "    </tr>\n",
       "    <tr>\n",
       "      <th>katello_api</th>\n",
       "      <td>1</td>\n",
       "    </tr>\n",
       "    <tr>\n",
       "      <th>ldap_fluff</th>\n",
       "      <td>1</td>\n",
       "    </tr>\n",
       "    <tr>\n",
       "      <th rowspan=\"3\" valign=\"top\">Adam Ruzicka</th>\n",
       "      <th>dynflow</th>\n",
       "      <td>1</td>\n",
       "    </tr>\n",
       "    <tr>\n",
       "      <th>notifications-backend</th>\n",
       "      <td>1</td>\n",
       "    </tr>\n",
       "    <tr>\n",
       "      <th>puppet-certs</th>\n",
       "      <td>1</td>\n",
       "    </tr>\n",
       "    <tr>\n",
       "      <th rowspan=\"3\" valign=\"top\">Adam Samalik</th>\n",
       "      <th>content</th>\n",
       "      <td>1</td>\n",
       "    </tr>\n",
       "    <tr>\n",
       "      <th>developer.fedoraproject.org</th>\n",
       "      <td>1</td>\n",
       "    </tr>\n",
       "    <tr>\n",
       "      <th>website</th>\n",
       "      <td>3</td>\n",
       "    </tr>\n",
       "    <tr>\n",
       "      <th>Adam Sitnik</th>\n",
       "      <th>BenchmarkDotNet</th>\n",
       "      <td>4</td>\n",
       "    </tr>\n",
       "    <tr>\n",
       "      <th rowspan=\"2\" valign=\"top\">Adam Young</th>\n",
       "      <th>candlepin</th>\n",
       "      <td>1</td>\n",
       "    </tr>\n",
       "    <tr>\n",
       "      <th>rhq</th>\n",
       "      <td>1</td>\n",
       "    </tr>\n",
       "    <tr>\n",
       "      <th>Ade Lee</th>\n",
       "      <th>pki</th>\n",
       "      <td>12</td>\n",
       "    </tr>\n",
       "    <tr>\n",
       "      <th>Adela Sofia Arreola</th>\n",
       "      <th>wildflysite</th>\n",
       "      <td>1</td>\n",
       "    </tr>\n",
       "    <tr>\n",
       "      <th>...</th>\n",
       "      <th>...</th>\n",
       "      <td>...</td>\n",
       "    </tr>\n",
       "    <tr>\n",
       "      <th>vwxyzh</th>\n",
       "      <th>docfx</th>\n",
       "      <td>4</td>\n",
       "    </tr>\n",
       "    <tr>\n",
       "      <th>walter</th>\n",
       "      <th>enhancements</th>\n",
       "      <td>1</td>\n",
       "    </tr>\n",
       "    <tr>\n",
       "      <th rowspan=\"2\" valign=\"top\">wes hayutin</th>\n",
       "      <th>ansible-role-tripleo-image-build</th>\n",
       "      <td>1</td>\n",
       "    </tr>\n",
       "    <tr>\n",
       "      <th>khaleesi</th>\n",
       "      <td>2</td>\n",
       "    </tr>\n",
       "    <tr>\n",
       "      <th>wes-johnson</th>\n",
       "      <th>kura</th>\n",
       "      <td>1</td>\n",
       "    </tr>\n",
       "    <tr>\n",
       "      <th>wesbos</th>\n",
       "      <th>web-editor</th>\n",
       "      <td>3</td>\n",
       "    </tr>\n",
       "    <tr>\n",
       "      <th>william chang</th>\n",
       "      <th>keycloak-nodejs-admin-client</th>\n",
       "      <td>1</td>\n",
       "    </tr>\n",
       "    <tr>\n",
       "      <th>witmicko</th>\n",
       "      <th>keycloak-operator</th>\n",
       "      <td>2</td>\n",
       "    </tr>\n",
       "    <tr>\n",
       "      <th>wycats</th>\n",
       "      <th>rails</th>\n",
       "      <td>3</td>\n",
       "    </tr>\n",
       "    <tr>\n",
       "      <th>xiaoping378</th>\n",
       "      <th>kubernetes</th>\n",
       "      <td>1</td>\n",
       "    </tr>\n",
       "    <tr>\n",
       "      <th>xihui</th>\n",
       "      <th>nebula</th>\n",
       "      <td>1</td>\n",
       "    </tr>\n",
       "    <tr>\n",
       "      <th>yankaiz</th>\n",
       "      <th>dns</th>\n",
       "      <td>1</td>\n",
       "    </tr>\n",
       "    <tr>\n",
       "      <th>ymqytw</th>\n",
       "      <th>kubernetes</th>\n",
       "      <td>1</td>\n",
       "    </tr>\n",
       "    <tr>\n",
       "      <th>yosifkit</th>\n",
       "      <th>official-images</th>\n",
       "      <td>1</td>\n",
       "    </tr>\n",
       "    <tr>\n",
       "      <th>yuusuke</th>\n",
       "      <th>booth</th>\n",
       "      <td>1</td>\n",
       "    </tr>\n",
       "    <tr>\n",
       "      <th>yuzo</th>\n",
       "      <th>android-qtwebkit</th>\n",
       "      <td>2</td>\n",
       "    </tr>\n",
       "    <tr>\n",
       "      <th>zhengjiajin</th>\n",
       "      <th>kubernetes</th>\n",
       "      <td>1</td>\n",
       "    </tr>\n",
       "    <tr>\n",
       "      <th>zherman0</th>\n",
       "      <th>containerized-data-importer</th>\n",
       "      <td>1</td>\n",
       "    </tr>\n",
       "    <tr>\n",
       "      <th>zmhassan</th>\n",
       "      <th>kubespark-operator</th>\n",
       "      <td>19</td>\n",
       "    </tr>\n",
       "    <tr>\n",
       "      <th>zmo</th>\n",
       "      <th>android-qtwebkit</th>\n",
       "      <td>1</td>\n",
       "    </tr>\n",
       "    <tr>\n",
       "      <th>Øystein Bedin</th>\n",
       "      <th>infographic</th>\n",
       "      <td>1</td>\n",
       "    </tr>\n",
       "    <tr>\n",
       "      <th>Łukasz Osipiuk</th>\n",
       "      <th>autoscaler</th>\n",
       "      <td>4</td>\n",
       "    </tr>\n",
       "    <tr>\n",
       "      <th>Łukasz Spas</th>\n",
       "      <th>kipi-plugins</th>\n",
       "      <td>1</td>\n",
       "    </tr>\n",
       "    <tr>\n",
       "      <th>Łukasz Strzałkowski</th>\n",
       "      <th>rails</th>\n",
       "      <td>2</td>\n",
       "    </tr>\n",
       "    <tr>\n",
       "      <th rowspan=\"2\" valign=\"top\">Łukasz Wojniłowicz</th>\n",
       "      <th>craft-blueprints-kde</th>\n",
       "      <td>1</td>\n",
       "    </tr>\n",
       "    <tr>\n",
       "      <th>kmymoney</th>\n",
       "      <td>10</td>\n",
       "    </tr>\n",
       "    <tr>\n",
       "      <th>Šimon Koníček</th>\n",
       "      <th>roslyn</th>\n",
       "      <td>2</td>\n",
       "    </tr>\n",
       "    <tr>\n",
       "      <th rowspan=\"3\" valign=\"top\">Šimon Lukašík</th>\n",
       "      <th>container-compliance</th>\n",
       "      <td>1</td>\n",
       "    </tr>\n",
       "    <tr>\n",
       "      <th>openscap</th>\n",
       "      <td>1</td>\n",
       "    </tr>\n",
       "    <tr>\n",
       "      <th>tests-foreman_openscap</th>\n",
       "      <td>1</td>\n",
       "    </tr>\n",
       "  </tbody>\n",
       "</table>\n",
       "<p>4480 rows × 1 columns</p>\n",
       "</div>"
      ],
      "text/plain": [
       "                                                          repos_id0\n",
       "committer_name          repos_name                                 \n",
       "\"Caius \"\"kaio\"\" Chance\" zanata-platform                           1\n",
       "--add                   keycloak-documentation                    1\n",
       "14rcole                 ostree-go                                 1\n",
       "Aaron Patterson         rails                                     8\n",
       "Aaron Prindle           minikube                                  2\n",
       "Aaron Tan               docutils                                  7\n",
       "Abhijith Das            resource-agents                           2\n",
       "Abhishek Koneru         pki                                       1\n",
       "Abhishek Shah           kubernetes                                1\n",
       "Adam Abrons             angular.js                                1\n",
       "Adam Brousseau          openj9                                    1\n",
       "Adam Cigánek            apisonator                                1\n",
       "Adam Haile              tito                                      1\n",
       "Adam Jolicoeur          kubevirt-1                                1\n",
       "Adam Miller             CentOS-Dockerfiles                        1\n",
       "                        ansible                                   1\n",
       "Adam Price              katello-1                                 3\n",
       "                        katello_api                               1\n",
       "                        ldap_fluff                                1\n",
       "Adam Ruzicka            dynflow                                   1\n",
       "                        notifications-backend                     1\n",
       "                        puppet-certs                              1\n",
       "Adam Samalik            content                                   1\n",
       "                        developer.fedoraproject.org               1\n",
       "                        website                                   3\n",
       "Adam Sitnik             BenchmarkDotNet                           4\n",
       "Adam Young              candlepin                                 1\n",
       "                        rhq                                       1\n",
       "Ade Lee                 pki                                      12\n",
       "Adela Sofia Arreola     wildflysite                               1\n",
       "...                                                             ...\n",
       "vwxyzh                  docfx                                     4\n",
       "walter                  enhancements                              1\n",
       "wes hayutin             ansible-role-tripleo-image-build          1\n",
       "                        khaleesi                                  2\n",
       "wes-johnson             kura                                      1\n",
       "wesbos                  web-editor                                3\n",
       "william chang           keycloak-nodejs-admin-client              1\n",
       "witmicko                keycloak-operator                         2\n",
       "wycats                  rails                                     3\n",
       "xiaoping378             kubernetes                                1\n",
       "xihui                   nebula                                    1\n",
       "yankaiz                 dns                                       1\n",
       "ymqytw                  kubernetes                                1\n",
       "yosifkit                official-images                           1\n",
       "yuusuke                 booth                                     1\n",
       "yuzo                    android-qtwebkit                          2\n",
       "zhengjiajin             kubernetes                                1\n",
       "zherman0                containerized-data-importer               1\n",
       "zmhassan                kubespark-operator                       19\n",
       "zmo                     android-qtwebkit                          1\n",
       "Øystein Bedin           infographic                               1\n",
       "Łukasz Osipiuk          autoscaler                                4\n",
       "Łukasz Spas             kipi-plugins                              1\n",
       "Łukasz Strzałkowski     rails                                     2\n",
       "Łukasz Wojniłowicz      craft-blueprints-kde                      1\n",
       "                        kmymoney                                 10\n",
       "Šimon Koníček           roslyn                                    2\n",
       "Šimon Lukašík           container-compliance                      1\n",
       "                        openscap                                  1\n",
       "                        tests-foreman_openscap                    1\n",
       "\n",
       "[4480 rows x 1 columns]"
      ]
     },
     "execution_count": 90,
     "metadata": {},
     "output_type": "execute_result"
    }
   ],
   "source": [
    "encoding_tmp"
   ]
  },
  {
   "cell_type": "code",
   "execution_count": 91,
   "metadata": {},
   "outputs": [],
   "source": [
    "encoding_tmp = encoding_tmp.pivot_table(columns = 'repos_name', index = 'committer_name', values = 'repos_id0', fill_value = 0)"
   ]
  },
  {
   "cell_type": "code",
   "execution_count": 92,
   "metadata": {},
   "outputs": [
    {
     "name": "stderr",
     "output_type": "stream",
     "text": [
      "/opt/app-root/lib/python3.6/site-packages/ipykernel_launcher.py:1: FutureWarning: Sorting because non-concatenation axis is not aligned. A future version\n",
      "of pandas will change to not sort by default.\n",
      "\n",
      "To accept the future behavior, pass 'sort=True'.\n",
      "\n",
      "To retain the current behavior and silence the warning, pass sort=False\n",
      "\n",
      "  \"\"\"Entry point for launching an IPython kernel.\n"
     ]
    }
   ],
   "source": [
    "new_df = pd.concat([new_df,encoding_tmp],axis=1)"
   ]
  },
  {
   "cell_type": "code",
   "execution_count": 93,
   "metadata": {},
   "outputs": [],
   "source": [
    "new_df.to_csv('transformed_sample.csv')"
   ]
  }
 ],
 "metadata": {
  "kernelspec": {
   "display_name": "Python 3",
   "language": "python",
   "name": "python3"
  },
  "language_info": {
   "codemirror_mode": {
    "name": "ipython",
    "version": 3
   },
   "file_extension": ".py",
   "mimetype": "text/x-python",
   "name": "python",
   "nbconvert_exporter": "python",
   "pygments_lexer": "ipython3",
   "version": "3.6.7"
  }
 },
 "nbformat": 4,
 "nbformat_minor": 2
}
